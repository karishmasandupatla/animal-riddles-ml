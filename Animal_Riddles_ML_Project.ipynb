{
  "nbformat": 4,
  "nbformat_minor": 0,
  "metadata": {
    "colab": {
      "provenance": [],
      "mount_file_id": "1DXDtBav40VHRHbBrbQrO5mjGO0daiLJw",
      "authorship_tag": "ABX9TyMTA1fMfJ5mTKN33SwJtKtX",
      "include_colab_link": true
    },
    "kernelspec": {
      "name": "python3",
      "display_name": "Python 3"
    },
    "language_info": {
      "name": "python"
    }
  },
  "cells": [
    {
      "cell_type": "markdown",
      "metadata": {
        "id": "view-in-github",
        "colab_type": "text"
      },
      "source": [
        "<a href=\"https://colab.research.google.com/github/karishmasandupatla/animal-riddles-ml/blob/main/Animal_Riddles_ML_Project.ipynb\" target=\"_parent\"><img src=\"https://colab.research.google.com/assets/colab-badge.svg\" alt=\"Open In Colab\"/></a>"
      ]
    },
    {
      "cell_type": "markdown",
      "source": [
        "# **Animal Riddles ML Project**\n",
        "\n",
        "---\n"
      ],
      "metadata": {
        "id": "paEDpGZpCE_j"
      }
    },
    {
      "cell_type": "markdown",
      "source": [
        "## 1.**Introduction**\n",
        "###Classification of riddles on animals:To build a machine learning model that classifies animal riddles to predict the correct animal mentioned or implied in the riddles.\n",
        "---\n",
        "\n",
        "\n"
      ],
      "metadata": {
        "id": "0I_weCOXFfG2"
      }
    },
    {
      "cell_type": "markdown",
      "source": [
        "#*The model performed well on a sample of 100 records, and it will now be applied to a larger dataset.*#"
      ],
      "metadata": {
        "id": "Ue_yw4rgCn7U"
      }
    },
    {
      "cell_type": "code",
      "source": [
        "# Step 1: Collect data\n",
        "import pandas as pd\n",
        "df = pd.read_csv('/content/drive/MyDrive/work/animal_riddles_200_final.csv')\n",
        "print(df)"
      ],
      "metadata": {
        "id": "s_Zecw6Xln31",
        "colab": {
          "base_uri": "https://localhost:8080/"
        },
        "outputId": "b6662aa8-2321-4cb9-ea58-b0c8417a8e0f"
      },
      "execution_count": null,
      "outputs": [
        {
          "output_type": "stream",
          "name": "stdout",
          "text": [
            "      ID                                             Riddle      Answer\n",
            "0      1          I have a mane and roar loudly. What am I?        Lion\n",
            "1      2               I hop and have long ears. What am I?      Rabbit\n",
            "2      3  I have black and white stripes and look like a...       Zebra\n",
            "3      4        I’m big, gray, and have a trunk. What am I?    Elephant\n",
            "4      5            I am the king of the jungle. What am I?        Lion\n",
            "..   ...                                                ...         ...\n",
            "195  196    I am a tiny insect that sucks blood. What am I?    Mosquito\n",
            "196  197  I am an amphibian and have slimy skin. What am I?  Salamander\n",
            "197  198  I am a bird that loves to dance and have beaut...     Peacock\n",
            "198  199  I am a sea creature with a soft body and a har...        Clam\n",
            "199  200  I am a small, stinky black-and-white animal. W...       Skunk\n",
            "\n",
            "[200 rows x 3 columns]\n"
          ]
        }
      ]
    },
    {
      "cell_type": "markdown",
      "source": [
        "\n",
        "## 2. **Data Loading**"
      ],
      "metadata": {
        "id": "co2Y2EwpQ4ns"
      }
    },
    {
      "cell_type": "code",
      "source": [
        "# Step 1:  Collect data\n",
        "import pandas as pd\n",
        "df = pd.read_csv('/content/drive/MyDrive/work/cleaned_animal_riddles.csv')\n",
        "print(df)"
      ],
      "metadata": {
        "colab": {
          "base_uri": "https://localhost:8080/"
        },
        "id": "NX4Cb6i2E3PB",
        "outputId": "f91ac21b-868c-4bd6-c659-e05800e7609c"
      },
      "execution_count": 3,
      "outputs": [
        {
          "output_type": "stream",
          "name": "stdout",
          "text": [
            "                                                 Riddle          Answer\n",
            "0     i have a long neck and a small head. i eat lea...         giraffe\n",
            "1     i’m small, hop on strong legs, and have long e...          rabbit\n",
            "2     i’m huge, with a trunk and tusks. i live in af...        elephant\n",
            "3     i’m a big, flightless bird from australia who ...             emu\n",
            "4     i’m a striped african horse—black and white, a...           zebra\n",
            "...                                                 ...             ...\n",
            "1373  gray with a trunk, forests i bunk. i dig for r...  asian elephant\n",
            "1374  brown with a tail, trees i hail. i glide at ni...      flying fox\n",
            "1375  brown with a mane, plains i strain. i graze in...             cow\n",
            "1376  gray with a fin, oceans i grin. i hunt with te...           shark\n",
            "1377     i have a long satches and eat bamboo.who am i?           panda\n",
            "\n",
            "[1378 rows x 2 columns]\n"
          ]
        }
      ]
    },
    {
      "cell_type": "markdown",
      "source": [
        "## 3. **Data Cleaning**"
      ],
      "metadata": {
        "id": "Cvaq3e19WzOs"
      }
    },
    {
      "cell_type": "code",
      "source": [
        "print(df.isnull().values.any())"
      ],
      "metadata": {
        "colab": {
          "base_uri": "https://localhost:8080/"
        },
        "id": "8qDXzJVOlxVA",
        "outputId": "9e22c485-e3be-4f2b-a981-f97a5aaab8f6"
      },
      "execution_count": 4,
      "outputs": [
        {
          "output_type": "stream",
          "name": "stdout",
          "text": [
            "False\n"
          ]
        }
      ]
    },
    {
      "cell_type": "code",
      "source": [
        "print(df.duplicated().values.any())"
      ],
      "metadata": {
        "colab": {
          "base_uri": "https://localhost:8080/"
        },
        "id": "tCFMJ4d6mClg",
        "outputId": "b63156f9-4c8f-496b-f825-bbd900a935ee"
      },
      "execution_count": 5,
      "outputs": [
        {
          "output_type": "stream",
          "name": "stdout",
          "text": [
            "False\n"
          ]
        }
      ]
    },
    {
      "cell_type": "code",
      "source": [
        "print(df.duplicated().sum())"
      ],
      "metadata": {
        "colab": {
          "base_uri": "https://localhost:8080/"
        },
        "id": "WRX228ZmX1tj",
        "outputId": "a185d204-8621-4b07-d054-569d478dbbb9"
      },
      "execution_count": 6,
      "outputs": [
        {
          "output_type": "stream",
          "name": "stdout",
          "text": [
            "0\n"
          ]
        }
      ]
    },
    {
      "cell_type": "code",
      "source": [
        "\n",
        "duplicateRowsDF = df[df.duplicated()]\n",
        "print(duplicateRowsDF)\n"
      ],
      "metadata": {
        "colab": {
          "base_uri": "https://localhost:8080/"
        },
        "id": "lLrrmbVBa8Zs",
        "outputId": "2cbca881-a590-4afe-c6c8-2aba7c8ac314"
      },
      "execution_count": 7,
      "outputs": [
        {
          "output_type": "stream",
          "name": "stdout",
          "text": [
            "Empty DataFrame\n",
            "Columns: [Riddle, Answer]\n",
            "Index: []\n"
          ]
        }
      ]
    },
    {
      "cell_type": "code",
      "source": [
        "\n",
        "df=df.drop_duplicates()\n",
        "print(df)\n"
      ],
      "metadata": {
        "colab": {
          "base_uri": "https://localhost:8080/"
        },
        "id": "QgrQntSKgQ_g",
        "outputId": "4672e179-79be-4c7b-8836-500dff9a72ca"
      },
      "execution_count": 8,
      "outputs": [
        {
          "output_type": "stream",
          "name": "stdout",
          "text": [
            "                                                 Riddle          Answer\n",
            "0     i have a long neck and a small head. i eat lea...         giraffe\n",
            "1     i’m small, hop on strong legs, and have long e...          rabbit\n",
            "2     i’m huge, with a trunk and tusks. i live in af...        elephant\n",
            "3     i’m a big, flightless bird from australia who ...             emu\n",
            "4     i’m a striped african horse—black and white, a...           zebra\n",
            "...                                                 ...             ...\n",
            "1373  gray with a trunk, forests i bunk. i dig for r...  asian elephant\n",
            "1374  brown with a tail, trees i hail. i glide at ni...      flying fox\n",
            "1375  brown with a mane, plains i strain. i graze in...             cow\n",
            "1376  gray with a fin, oceans i grin. i hunt with te...           shark\n",
            "1377     i have a long satches and eat bamboo.who am i?           panda\n",
            "\n",
            "[1378 rows x 2 columns]\n"
          ]
        }
      ]
    },
    {
      "cell_type": "code",
      "source": [
        "print(df.duplicated().values.any())\n",
        "print(df.duplicated().sum())"
      ],
      "metadata": {
        "colab": {
          "base_uri": "https://localhost:8080/"
        },
        "id": "yRmBQjRPgeNq",
        "outputId": "e32b1b32-ed7c-4ba7-e305-7380fd22e8f1"
      },
      "execution_count": 9,
      "outputs": [
        {
          "output_type": "stream",
          "name": "stdout",
          "text": [
            "False\n",
            "0\n"
          ]
        }
      ]
    },
    {
      "cell_type": "markdown",
      "source": [
        "## 4. ** Model Training**"
      ],
      "metadata": {
        "id": "sShb4jFgRWpP"
      }
    },
    {
      "cell_type": "code",
      "source": [
        "\n",
        "from sklearn.model_selection import train_test_split\n",
        "from sklearn.feature_extraction.text import TfidfVectorizer\n",
        "from sklearn.linear_model import LogisticRegression\n",
        "from sklearn.metrics import accuracy_score, classification_report\n",
        "\n",
        "\n",
        "# Step 2 Split features (X) and target (y)\n",
        "# Extract features and labels\n",
        "X = df[\"Riddle\"]  # Text features\n",
        "y = df[\"Answer\"]  # Labels\n",
        "\n",
        "\n",
        "# 4Convert text data into numerical features using TF-IDF\n",
        "vectorizer = TfidfVectorizer(stop_words='english', max_features=500)\n",
        "X_tfidf = vectorizer.fit_transform(X)\n",
        "\n",
        "\n",
        "#5 Split the data into training and testing sets\n",
        "X_train, X_test, y_train, y_test = train_test_split(X_tfidf, y, test_size=0.2, random_state=42,shuffle=True)\n",
        "\n",
        "# 6Train a Logistic Regression model\n",
        "classifier = LogisticRegression(max_iter=100)\n",
        "classifier.fit(X_train, y_train)\n",
        "\n",
        "#7 Make predictions\n",
        "y_pred = classifier.predict(X_test)\n",
        "\n",
        "# 8Evaluate the model\n",
        "accuracy = accuracy_score(y_test, y_pred)\n",
        "print(f\"Model Accuracy: {accuracy * 100:.2f}%\")\n",
        "print(\"\\nClassification Report:\\n\", classification_report(y_test, y_pred))\n"
      ],
      "metadata": {
        "id": "Oz6o8fOrnjNr",
        "colab": {
          "base_uri": "https://localhost:8080/"
        },
        "outputId": "320565ad-5490-4fb6-9fff-84a841954cd5"
      },
      "execution_count": 10,
      "outputs": [
        {
          "output_type": "stream",
          "name": "stdout",
          "text": [
            "Model Accuracy: 27.54%\n",
            "\n",
            "Classification Report:\n",
            "                            precision    recall  f1-score   support\n",
            "\n",
            "              \"armadillo\"       0.00      0.00      0.00         1\n",
            "                    \"cat\"       0.00      0.00      0.00         1\n",
            "                \"catfish\"       0.00      0.00      0.00         1\n",
            "                    \"dog\"       0.00      0.00      0.00         1\n",
            "          \"electric eel\"        0.00      0.00      0.00         1\n",
            "            \"ghost crab\"        0.00      0.00      0.00         1\n",
            "                  \"horse\"       0.00      0.00      0.00         1\n",
            "                  \"shark\"       0.00      0.00      0.00         1\n",
            "            a hummingbird       0.00      0.00      0.00         1\n",
            "               a platypus       0.00      0.00      0.00         1\n",
            "           african darter       0.00      0.00      0.00         1\n",
            "       african fish eagle       0.50      1.00      0.67         1\n",
            "      african grey parrot       1.00      0.50      0.67         2\n",
            "                albatross       0.00      0.00      0.00         3\n",
            "               anglerfish       0.67      1.00      0.80         2\n",
            "               arctic fox       0.00      0.00      0.00         3\n",
            "              arctic tern       0.00      0.00      0.00         2\n",
            "          armored catfish       0.00      0.00      0.00         1\n",
            "          asian snakehead       0.00      0.00      0.00         1\n",
            "             barbary lion       0.00      0.00      0.00         1\n",
            "           barreleye fish       1.00      1.00      1.00         1\n",
            "                      bat       0.75      1.00      0.86         3\n",
            "                     bear       0.00      0.00      0.00         1\n",
            "           bearded dragon       0.00      0.00      0.00         1\n",
            "                   beaver       0.00      0.00      0.00         1\n",
            "         bird of paradise       0.00      0.00      0.00         2\n",
            "                  bittern       0.00      0.00      0.00         1\n",
            "               black kite       0.00      0.00      0.00         1\n",
            "       black-necked stork       0.00      0.00      0.00         1\n",
            "               blue whale       0.00      0.00      0.00         3\n",
            "                bowerbird       1.00      1.00      1.00         1\n",
            "                 capybara       0.00      0.00      0.00         1\n",
            "                 cardinal       0.00      0.00      0.00         1\n",
            "                cassowary       1.00      0.67      0.80         3\n",
            "                      cat       0.33      0.25      0.29         4\n",
            "              caterpillar       0.00      0.00      0.00         1\n",
            "                  catfish       0.00      0.00      0.00         1\n",
            "   central bearded dragon       0.00      0.00      0.00         1\n",
            "                chameleon       0.00      0.00      0.00         1\n",
            "                  cheetah       0.33      1.00      0.50         1\n",
            "           cleaner wrasse       0.00      0.00      0.00         1\n",
            "           climbing perch       1.00      1.00      1.00         1\n",
            "          clouded leopard       0.00      0.00      0.00         1\n",
            "                clownfish       0.75      0.60      0.67         5\n",
            "           colobus monkey       0.00      0.00      0.00         1\n",
            "             common swift       1.00      1.00      1.00         1\n",
            "                   cougar       0.00      0.00      0.00         1\n",
            "              crested tit       0.00      0.00      0.00         1\n",
            "                   cuckoo       0.00      0.00      0.00         1\n",
            "               cuttlefish       0.00      0.00      0.00         1\n",
            "                     deer       0.67      1.00      0.80         2\n",
            "                      dog       0.38      1.00      0.55         3\n",
            "                  dolphin       0.06      1.00      0.11         1\n",
            "                     dove       0.00      0.00      0.00         1\n",
            "                    eagle       0.00      0.00      0.00         1\n",
            "                      eel       0.00      0.00      0.00         1\n",
            "             electric eel       0.50      0.67      0.57         3\n",
            "                 elephant       0.27      0.67      0.38         6\n",
            "           elephant shrew       0.00      0.00      0.00         1\n",
            "                      emu       0.00      0.00      0.00         1\n",
            "         european polecat       0.00      0.00      0.00         1\n",
            "     fan-tailed widowbird       0.00      0.00      0.00         1\n",
            "               fennec fox       1.00      0.50      0.67         2\n",
            "                 flamingo       0.00      0.00      0.00         1\n",
            "          flashlight fish       0.00      0.00      0.00         1\n",
            "              flying fish       0.00      0.00      0.00         1\n",
            "             fox squirrel       0.00      0.00      0.00         1\n",
            "              frigatebird       0.00      0.00      0.00         1\n",
            "                     frog       0.00      0.00      0.00         1\n",
            "             garter snake       0.00      0.00      0.00         1\n",
            "                  giraffe       0.25      1.00      0.40         4\n",
            "                     goby       0.00      0.00      0.00         1\n",
            "                    goose       0.00      0.00      0.00         1\n",
            "                  gourami       0.00      0.00      0.00         1\n",
            "       grey crowned crane       0.00      0.00      0.00         1\n",
            "                guillemot       0.00      0.00      0.00         1\n",
            "               guineafowl       0.00      0.00      0.00         1\n",
            "                 handfish       0.00      0.00      0.00         1\n",
            "                   hoopoe       0.00      0.00      0.00         1\n",
            "             humming bird       0.00      0.00      0.00         2\n",
            "              hummingbird       0.04      1.00      0.08         2\n",
            "           humpback whale       0.00      0.00      0.00         2\n",
            "          humphead wrasse       0.00      0.00      0.00         1\n",
            "                     ibex       0.00      0.00      0.00         1\n",
            "                  icefish       0.00      0.00      0.00         1\n",
            "                   jaguar       0.00      0.00      0.00         1\n",
            "                jellyfish       0.00      0.00      0.00         1\n",
            "                 kangaroo       0.11      1.00      0.19         4\n",
            "           kangaroo mouse       0.00      0.00      0.00         1\n",
            "             kangaroo rat       0.00      0.00      0.00         0\n",
            "            kangaroo rat        0.00      0.00      0.00         1\n",
            "       keel-billed toucan       0.00      0.00      0.00         2\n",
            "    king bird-of-paradise       0.00      0.00      0.00         1\n",
            "                  kittens       0.00      0.00      0.00         1\n",
            "                     kiwi       1.00      0.50      0.67         2\n",
            "                    koala       0.00      0.00      0.00         1\n",
            "                  lamprey       0.00      0.00      0.00         1\n",
            "                     lark       0.00      0.00      0.00         1\n",
            "                  leopard       0.00      0.00      0.00         2\n",
            "                     lion       0.36      1.00      0.53         4\n",
            "                  lioness       0.00      0.00      0.00         1\n",
            "                 lionfish       0.00      0.00      0.00         1\n",
            "       long-tailed jaeger       0.00      0.00      0.00         2\n",
            "                 lungfish       0.00      0.00      0.00         1\n",
            "                 lyrebird       0.50      1.00      0.67         1\n",
            "                    macaw       0.00      0.00      0.00         1\n",
            "                 mackerel       0.00      0.00      0.00         1\n",
            "                   magpie       0.00      0.00      0.00         2\n",
            "               meadowlark       0.00      0.00      0.00         1\n",
            "                megalodon       0.00      0.00      0.00         1\n",
            "                   monkey       0.33      1.00      0.50         3\n",
            "                    moose       0.00      0.00      0.00         1\n",
            "                moray eel       0.00      0.00      0.00         1\n",
            "               mudskipper       0.50      0.33      0.40         3\n",
            "                  muntjac       0.00      0.00      0.00         1\n",
            "                  narwhal       0.00      0.00      0.00         1\n",
            "                     nest       0.00      0.00      0.00         1\n",
            "      new caledonian crow       0.25      1.00      0.40         1\n",
            "              nightingale       0.00      0.00      0.00         1\n",
            "                  octopus       0.00      0.00      0.00         1\n",
            "                    okapi       0.00      0.00      0.00         2\n",
            "                   oriole       0.00      0.00      0.00         1\n",
            "                   osprey       0.00      0.00      0.00         1\n",
            "                  ostrich       0.17      1.00      0.29         1\n",
            "                     pacu       0.00      0.00      0.00         0\n",
            "              pampas deer       0.00      0.00      0.00         1\n",
            "                    panda       0.50      1.00      0.67         2\n",
            "                   panda        0.00      0.00      0.00         1\n",
            "                 pangolin       0.00      0.00      0.00         1\n",
            "                   parrot       1.00      1.00      1.00         1\n",
            "                  peacock       0.00      0.00      0.00         1\n",
            "                  pelican       0.00      0.00      0.00         2\n",
            "                  penguin       0.00      0.00      0.00         3\n",
            "         peregrine falcon       0.00      0.00      0.00         2\n",
            "                   pigeon       0.00      0.00      0.00         4\n",
            "      pileated woodpecker       0.00      0.00      0.00         1\n",
            "                    pleco       0.00      0.00      0.00         1\n",
            "               polar bear       0.22      1.00      0.36         2\n",
            "              prairie dog       0.00      0.00      0.00         1\n",
            "               pufferfish       0.25      1.00      0.40         2\n",
            "                   puffin       0.00      0.00      0.00         1\n",
            "raggiana bird-of-paradise       0.00      0.00      0.00         1\n",
            "             rattle snake       0.00      0.00      0.00         1\n",
            "              rattlesnake       0.00      0.00      0.00         1\n",
            "                    raven       0.00      0.00      0.00         2\n",
            "                red panda       0.00      0.00      0.00         1\n",
            "   red-bellied woodpecker       0.00      0.00      0.00         1\n",
            "      resplendent quetzal       0.00      0.00      0.00         1\n",
            "                     rhea       0.50      0.50      0.50         2\n",
            "               roadrunner       0.00      0.00      0.00         1\n",
            "                    robin       0.00      0.00      0.00         1\n",
            "                rock dove       0.00      0.00      0.00         1\n",
            "                  sawfish       1.00      1.00      1.00         1\n",
            "                 sea lion       0.00      0.00      0.00         1\n",
            "           secretary bird       0.00      0.00      0.00         1\n",
            "            sergeant fish       0.00      0.00      0.00         1\n",
            "           sergeant major       0.00      0.00      0.00         1\n",
            "                    shark       0.33      0.80      0.47         5\n",
            "                    sheep       0.00      0.00      0.00         1\n",
            "                     skua       0.00      0.00      0.00         1\n",
            "                    snake       0.50      0.71      0.59         7\n",
            "                 starfish       0.67      1.00      0.80         2\n",
            "                    stork       0.00      0.00      0.00         1\n",
            "             streamertail       0.00      0.00      0.00         1\n",
            "      suckermouth catfish       0.00      0.00      0.00         1\n",
            "                  sunbird       0.00      0.00      0.00         2\n",
            "          superb lyrebird       0.00      0.00      0.00         1\n",
            "                    swift       0.00      0.00      0.00         1\n",
            "                swordfish       0.00      0.00      0.00         1\n",
            "                   tenrec       0.00      0.00      0.00         1\n",
            "       thick-billed murre       0.00      0.00      0.00         1\n",
            "                    tiger       1.00      0.25      0.40         4\n",
            "                tigerfish       0.00      0.00      0.00         1\n",
            "                 tinamous       0.00      0.00      0.00         1\n",
            "              torpedo ray       0.00      0.00      0.00         1\n",
            "                 tortoise       0.00      0.00      0.00         1\n",
            "                   toucan       0.00      0.00      0.00         1\n",
            "               tree snake       0.00      0.00      0.00         1\n",
            "                    trout       0.00      0.00      0.00         1\n",
            "                      tui       0.00      0.00      0.00         1\n",
            "                  vulture       0.00      0.00      0.00         1\n",
            "                  wallaby       0.00      0.00      0.00         1\n",
            "                watercock       0.00      0.00      0.00         1\n",
            "                    whale       0.00      0.00      0.00         2\n",
            "                   whales       0.00      0.00      0.00         1\n",
            "                     wolf       0.00      0.00      0.00         3\n",
            "         woodpecker finch       0.00      0.00      0.00         1\n",
            "                     wren       0.00      0.00      0.00         1\n",
            " yellow-throated longclaw       0.00      0.00      0.00         1\n",
            "                    zebra       0.22      0.67      0.33         3\n",
            "        zitting cisticola       0.00      0.00      0.00         1\n",
            "                   ʻiʻiwi       0.00      0.00      0.00         1\n",
            "\n",
            "                 accuracy                           0.28       276\n",
            "                macro avg       0.11      0.17      0.12       276\n",
            "             weighted avg       0.18      0.28      0.19       276\n",
            "\n"
          ]
        },
        {
          "output_type": "stream",
          "name": "stderr",
          "text": [
            "/usr/local/lib/python3.11/dist-packages/sklearn/metrics/_classification.py:1565: UndefinedMetricWarning: Precision is ill-defined and being set to 0.0 in labels with no predicted samples. Use `zero_division` parameter to control this behavior.\n",
            "  _warn_prf(average, modifier, f\"{metric.capitalize()} is\", len(result))\n",
            "/usr/local/lib/python3.11/dist-packages/sklearn/metrics/_classification.py:1565: UndefinedMetricWarning: Recall is ill-defined and being set to 0.0 in labels with no true samples. Use `zero_division` parameter to control this behavior.\n",
            "  _warn_prf(average, modifier, f\"{metric.capitalize()} is\", len(result))\n",
            "/usr/local/lib/python3.11/dist-packages/sklearn/metrics/_classification.py:1565: UndefinedMetricWarning: Precision is ill-defined and being set to 0.0 in labels with no predicted samples. Use `zero_division` parameter to control this behavior.\n",
            "  _warn_prf(average, modifier, f\"{metric.capitalize()} is\", len(result))\n",
            "/usr/local/lib/python3.11/dist-packages/sklearn/metrics/_classification.py:1565: UndefinedMetricWarning: Recall is ill-defined and being set to 0.0 in labels with no true samples. Use `zero_division` parameter to control this behavior.\n",
            "  _warn_prf(average, modifier, f\"{metric.capitalize()} is\", len(result))\n",
            "/usr/local/lib/python3.11/dist-packages/sklearn/metrics/_classification.py:1565: UndefinedMetricWarning: Precision is ill-defined and being set to 0.0 in labels with no predicted samples. Use `zero_division` parameter to control this behavior.\n",
            "  _warn_prf(average, modifier, f\"{metric.capitalize()} is\", len(result))\n",
            "/usr/local/lib/python3.11/dist-packages/sklearn/metrics/_classification.py:1565: UndefinedMetricWarning: Recall is ill-defined and being set to 0.0 in labels with no true samples. Use `zero_division` parameter to control this behavior.\n",
            "  _warn_prf(average, modifier, f\"{metric.capitalize()} is\", len(result))\n"
          ]
        }
      ]
    },
    {
      "cell_type": "markdown",
      "source": [
        "#Save file once run in folder  for module"
      ],
      "metadata": {
        "id": "RMQlAVLUDuVm"
      }
    },
    {
      "cell_type": "code",
      "source": [
        "#save file once run in folder  for module"
      ],
      "metadata": {
        "id": "VckOmH7lmH1V"
      },
      "execution_count": null,
      "outputs": []
    },
    {
      "cell_type": "code",
      "source": [
        "import joblib\n",
        "\n",
        "# Save the trained model\n",
        "joblib.dump(classifier, \"riddle_classifier.pkl\")\n",
        "\n",
        "# Save the TF-IDF vectorizer\n",
        "joblib.dump(vectorizer, \"tfidf_vectorizer.pkl\")\n"
      ],
      "metadata": {
        "id": "Xa1KK6ZXkkfZ",
        "colab": {
          "base_uri": "https://localhost:8080/"
        },
        "outputId": "c22183fd-fbba-4470-ae06-505f06e2c706"
      },
      "execution_count": null,
      "outputs": [
        {
          "output_type": "execute_result",
          "data": {
            "text/plain": [
              "['tfidf_vectorizer.pkl']"
            ]
          },
          "metadata": {},
          "execution_count": 9
        }
      ]
    },
    {
      "cell_type": "code",
      "source": [
        "# Load the trained model\n",
        "classifier = joblib.load(\"riddle_classifier.pkl\")\n",
        "\n",
        "# Load the TF-IDF vectorizer\n",
        "vectorizer = joblib.load(\"tfidf_vectorizer.pkl\")\n",
        "\n",
        "# Example prediction\n",
        "user_riddle = [\"I may remaind you of a monkey but that's not quite right intelligence is my feature and i dont much like to fight\"]\n",
        "\n",
        "\n",
        "riddle_tfidf = vectorizer.transform(user_riddle)\n",
        "prediction = classifier.predict(riddle_tfidf)\n",
        "print(f\"Predicted Answer: {prediction[0]}\")\n"
      ],
      "metadata": {
        "id": "AKG1IbVwlFxB",
        "colab": {
          "base_uri": "https://localhost:8080/"
        },
        "outputId": "0d98c07c-ab27-4b63-aea0-f80711bf4dba"
      },
      "execution_count": null,
      "outputs": [
        {
          "output_type": "stream",
          "name": "stdout",
          "text": [
            "Predicted Answer: dolphin\n"
          ]
        }
      ]
    },
    {
      "cell_type": "code",
      "source": [
        "\n",
        "# # Function to predict a new riddle\n",
        "# def predict_riddle():\n",
        "#     user_riddle = input(\"Enter a riddle: \")\n",
        "#     riddle_tfidf = vectorizer.transform([user_riddle])\n",
        "#     prediction = classifier.predict(riddle_tfidf)\n",
        "#     print(f\"Predicted Answer: {prediction[0]}\")\n",
        "\n",
        "# # Example usage\n",
        "# predict_riddle()"
      ],
      "metadata": {
        "id": "ygLiTkEqoT2G",
        "colab": {
          "base_uri": "https://localhost:8080/"
        },
        "outputId": "07c83f22-44b0-4491-e295-662483e2eb9d"
      },
      "execution_count": null,
      "outputs": [
        {
          "output_type": "stream",
          "name": "stdout",
          "text": [
            "Enter a riddle: I can be long or short; I can be grown or bought; I can be painted or left bare; I can be round or square. What am I?\n",
            "Predicted Answer: Giraffe\n"
          ]
        }
      ]
    },
    {
      "cell_type": "code",
      "source": [
        "# # prompt: covert list of animals  into csv file\n",
        "\n",
        "# import pandas as pd\n",
        "# # Create a DataFrame from the list of animals\n",
        "# df_animals = pd.DataFrame({'Animal': unique_animals})\n",
        "\n",
        "# # Specify the path and name for the CSV file\n",
        "# csv_file_path = '/content/drive/MyDrive/work/onlyanimals.csv'\n",
        "\n",
        "# # Save the DataFrame to a CSV file\n",
        "# df_animals.to_csv(csv_file_path, index=False)  # index=False prevents row numbers from being written\n",
        "\n",
        "# print(f\"Unique animal names saved to {csv_file_path}\")\n"
      ],
      "metadata": {
        "colab": {
          "base_uri": "https://localhost:8080/"
        },
        "id": "cOyCowli2xz4",
        "outputId": "70eb44fc-6ba8-4947-ffe1-05613bc5410c"
      },
      "execution_count": null,
      "outputs": [
        {
          "output_type": "stream",
          "name": "stdout",
          "text": [
            "Unique animal names saved to /content/drive/MyDrive/work/onlyanimals.csv\n"
          ]
        }
      ]
    },
    {
      "cell_type": "markdown",
      "source": [
        "##5. **More detail wokrking of model to acurracy (process)**\n"
      ],
      "metadata": {
        "id": "EnOVI0NqGcF_"
      }
    },
    {
      "cell_type": "code",
      "source": [
        "\n",
        "import nltk\n",
        "nltk.download('punkt_tab')"
      ],
      "metadata": {
        "colab": {
          "base_uri": "https://localhost:8080/"
        },
        "id": "atmx01pb8dyy",
        "outputId": "09d640f5-e4cb-4f7e-f688-76798bf430a5"
      },
      "execution_count": 11,
      "outputs": [
        {
          "output_type": "stream",
          "name": "stderr",
          "text": [
            "[nltk_data] Downloading package punkt_tab to /root/nltk_data...\n",
            "[nltk_data]   Unzipping tokenizers/punkt_tab.zip.\n"
          ]
        },
        {
          "output_type": "execute_result",
          "data": {
            "text/plain": [
              "True"
            ]
          },
          "metadata": {},
          "execution_count": 11
        }
      ]
    },
    {
      "cell_type": "code",
      "source": [
        "import pandas as pd\n",
        "import nltk\n",
        "from sklearn.model_selection import train_test_split\n",
        "from sklearn.feature_extraction.text import TfidfVectorizer\n",
        "from sklearn.linear_model import LogisticRegression\n",
        "from sklearn.metrics import accuracy_score, classification_report\n",
        "from nltk.corpus import stopwords\n",
        "from nltk.stem import WordNetLemmatizer\n",
        "\n",
        "# Download NLTK data (run once)\n",
        "nltk.download('stopwords')\n",
        "nltk.download('punkt')\n",
        "nltk.download('wordnet')\n",
        "\n",
        "# Load your dataset (assuming 2000 riddle-answer pairs)\n",
        "df = pd.read_csv('/content/drive/MyDrive/work/cleaned_animal_riddles.csv')  # Replace with your actual file path\n",
        "\n",
        "# Preprocessing function\n",
        "lemmatizer = WordNetLemmatizer()\n",
        "stop_words = set(stopwords.words('english'))\n",
        "\n",
        "def preprocess_text(text):\n",
        "    tokens = nltk.word_tokenize(text.lower())\n",
        "    tokens = [lemmatizer.lemmatize(token) for token in tokens if token.isalnum() and token not in stop_words]\n",
        "    return ' '.join(tokens)\n",
        "\n",
        "# Apply preprocessing\n",
        "df['Riddle_processed'] = df['Riddle'].apply(preprocess_text)\n",
        "\n",
        "# Step 2: Split features (X) and target (y)\n",
        "X = df['Riddle_processed']  # Preprocessed text features\n",
        "y = df['Answer']            # Labels (e.g., \"Dog,\" \"Cat\")\n",
        "\n",
        "# Check answer distribution (to diagnose imbalance)\n",
        "print(\"Answer Distribution:\\n\", df['Answer'].value_counts().head(10))\n",
        "print(f\"Total unique answers: {len(df['Answer'].unique())}\")\n",
        "\n",
        "# Step 4: Convert text data into numerical features using TF-IDF\n",
        "vectorizer = TfidfVectorizer(\n",
        "    stop_words='english',    # Remove common English words\n",
        "    max_features=2000,       # Increase to capture more vocabulary\n",
        "    ngram_range=(1, 2),      # Include unigrams and bigrams\n",
        "    min_df=2                 # Ignore rare terms (less than 2 occurrences)\n",
        ")\n",
        "X_tfidf = vectorizer.fit_transform(X)\n",
        "\n",
        "# Step 5: Split the data into training and testing sets\n",
        "X_train, X_test, y_train, y_test = train_test_split(X_tfidf, y, test_size=0.2, random_state=42, shuffle=True)\n",
        "\n",
        "# Step 6: Train a Logistic Regression model\n",
        "classifier = LogisticRegression(\n",
        "    max_iter=1000,           # Increase for convergence with larger data\n",
        "    multi_class='multinomial',  # Handle multiple classes\n",
        "    solver='lbfgs',          # Optimized for multinomial\n",
        "    C=2.0                    # Adjust regularization (higher = less regularization)\n",
        ")\n",
        "classifier.fit(X_train, y_train)\n",
        "\n",
        "# Step 7: Make predictions\n",
        "y_pred = classifier.predict(X_test)\n",
        "\n",
        "# Step 8: Evaluate the model\n",
        "accuracy = accuracy_score(y_test, y_pred)\n",
        "print(f\"\\nModel Accuracy: {accuracy * 100:.2f}%\")\n",
        "print(\"\\nClassification Report:\\n\", classification_report(y_test, y_pred, zero_division=0))\n",
        "\n",
        "# Example prediction\n",
        "sample_riddle = [\"I have four legs but never walk,I carry my home on my back.I'm slow and steady, that’s my way,Who am I?\"]\n",
        "sample_processed = [preprocess_text(sample_riddle[0])]\n",
        "sample_tfidf = vectorizer.transform(sample_processed)\n",
        "prediction = classifier.predict(sample_tfidf)\n",
        "print(f\"\\nSample Riddle: {sample_riddle[0]}\")\n",
        "print(f\"Predicted Answer: {prediction[0]}\")"
      ],
      "metadata": {
        "colab": {
          "base_uri": "https://localhost:8080/"
        },
        "id": "KWHXX-k28Oz2",
        "outputId": "434523b9-57d3-4375-edf7-22d206abdbd5"
      },
      "execution_count": 12,
      "outputs": [
        {
          "output_type": "stream",
          "name": "stderr",
          "text": [
            "[nltk_data] Downloading package stopwords to /root/nltk_data...\n",
            "[nltk_data]   Package stopwords is already up-to-date!\n",
            "[nltk_data] Downloading package punkt to /root/nltk_data...\n",
            "[nltk_data]   Package punkt is already up-to-date!\n",
            "[nltk_data] Downloading package wordnet to /root/nltk_data...\n",
            "[nltk_data]   Package wordnet is already up-to-date!\n"
          ]
        },
        {
          "output_type": "stream",
          "name": "stdout",
          "text": [
            "Answer Distribution:\n",
            " Answer\n",
            "kangaroo       27\n",
            "giraffe        25\n",
            "elephant       23\n",
            "hummingbird    22\n",
            "shark          21\n",
            "snake          20\n",
            "zebra          19\n",
            "monkey         18\n",
            "dog            17\n",
            "dolphin        16\n",
            "Name: count, dtype: int64\n",
            "Total unique answers: 561\n"
          ]
        },
        {
          "output_type": "stream",
          "name": "stderr",
          "text": [
            "/usr/local/lib/python3.11/dist-packages/sklearn/linear_model/_logistic.py:1247: FutureWarning: 'multi_class' was deprecated in version 1.5 and will be removed in 1.7. From then on, it will always use 'multinomial'. Leave it to its default value to avoid this warning.\n",
            "  warnings.warn(\n"
          ]
        },
        {
          "output_type": "stream",
          "name": "stdout",
          "text": [
            "\n",
            "Model Accuracy: 33.33%\n",
            "\n",
            "Classification Report:\n",
            "                            precision    recall  f1-score   support\n",
            "\n",
            "              \"armadillo\"       0.00      0.00      0.00         1\n",
            "                    \"cat\"       0.00      0.00      0.00         1\n",
            "                \"catfish\"       0.00      0.00      0.00         1\n",
            "                    \"dog\"       0.00      0.00      0.00         1\n",
            "          \"electric eel\"        0.00      0.00      0.00         1\n",
            "            \"ghost crab\"        0.00      0.00      0.00         1\n",
            "                  \"horse\"       0.00      0.00      0.00         1\n",
            "                  \"shark\"       0.00      0.00      0.00         1\n",
            "            a hummingbird       0.00      0.00      0.00         1\n",
            "               a platypus       0.00      0.00      0.00         1\n",
            "           african darter       0.00      0.00      0.00         1\n",
            "       african fish eagle       0.50      1.00      0.67         1\n",
            "      african grey parrot       1.00      1.00      1.00         2\n",
            "                albatross       1.00      0.33      0.50         3\n",
            "               anglerfish       0.67      1.00      0.80         2\n",
            "               arctic fox       0.00      0.00      0.00         3\n",
            "              arctic tern       0.00      0.00      0.00         2\n",
            "          armored catfish       0.00      0.00      0.00         1\n",
            "          asian snakehead       0.00      0.00      0.00         1\n",
            "             barbary lion       0.00      0.00      0.00         1\n",
            "                 barn owl       0.00      0.00      0.00         0\n",
            "           barreleye fish       1.00      1.00      1.00         1\n",
            "                      bat       1.00      1.00      1.00         3\n",
            "                     bear       0.50      1.00      0.67         1\n",
            "           bearded dragon       0.00      0.00      0.00         1\n",
            "                   beaver       0.00      0.00      0.00         1\n",
            "         bird of paradise       0.00      0.00      0.00         2\n",
            "                  bittern       0.00      0.00      0.00         1\n",
            "               black kite       0.00      0.00      0.00         1\n",
            "       black-necked stork       0.00      0.00      0.00         1\n",
            "               blue whale       0.00      0.00      0.00         3\n",
            "                bowerbird       1.00      1.00      1.00         1\n",
            "                 capybara       0.00      0.00      0.00         1\n",
            "                 cardinal       0.00      0.00      0.00         1\n",
            "                cassowary       1.00      0.67      0.80         3\n",
            "                      cat       0.50      0.25      0.33         4\n",
            "              caterpillar       0.00      0.00      0.00         1\n",
            "                  catfish       0.00      0.00      0.00         1\n",
            "   central bearded dragon       0.00      0.00      0.00         1\n",
            "                chameleon       0.00      0.00      0.00         1\n",
            "                  cheetah       0.20      1.00      0.33         1\n",
            "       clark's nutcracker       0.00      0.00      0.00         0\n",
            "           cleaner wrasse       0.00      0.00      0.00         1\n",
            "           climbing perch       1.00      1.00      1.00         1\n",
            "          clouded leopard       0.00      0.00      0.00         1\n",
            "                clownfish       0.75      0.60      0.67         5\n",
            "           colobus monkey       0.00      0.00      0.00         1\n",
            "             common swift       1.00      1.00      1.00         1\n",
            "                   cougar       0.00      0.00      0.00         1\n",
            "              crested tit       0.00      0.00      0.00         1\n",
            "                   cuckoo       1.00      1.00      1.00         1\n",
            "               cuttlefish       0.00      0.00      0.00         1\n",
            "                     deer       0.67      1.00      0.80         2\n",
            "                      dog       0.30      1.00      0.46         3\n",
            "                  dolphin       0.08      1.00      0.14         1\n",
            "                     dove       0.00      0.00      0.00         1\n",
            "                    eagle       0.50      1.00      0.67         1\n",
            "                      eel       0.00      0.00      0.00         1\n",
            "             electric eel       0.60      1.00      0.75         3\n",
            "                 elephant       0.42      0.83      0.56         6\n",
            "           elephant shrew       0.00      0.00      0.00         1\n",
            "          emperor penguin       0.00      0.00      0.00         0\n",
            "                      emu       1.00      1.00      1.00         1\n",
            "         european polecat       0.00      0.00      0.00         1\n",
            "     fan-tailed widowbird       0.00      0.00      0.00         1\n",
            "               fennec fox       1.00      0.50      0.67         2\n",
            "                 flamingo       0.00      0.00      0.00         1\n",
            "          flashlight fish       0.00      0.00      0.00         1\n",
            "              flying fish       0.00      0.00      0.00         1\n",
            "             fox squirrel       0.00      0.00      0.00         1\n",
            "              frigatebird       0.00      0.00      0.00         1\n",
            "                     frog       0.00      0.00      0.00         1\n",
            "             garter snake       0.00      0.00      0.00         1\n",
            "                  giraffe       0.25      1.00      0.40         4\n",
            "                     goby       0.00      0.00      0.00         1\n",
            "                    goose       0.00      0.00      0.00         1\n",
            "                  gourami       0.00      0.00      0.00         1\n",
            "       grey crowned crane       0.00      0.00      0.00         1\n",
            "                guillemot       0.00      0.00      0.00         1\n",
            "               guineafowl       0.00      0.00      0.00         1\n",
            "                 handfish       0.00      0.00      0.00         1\n",
            "                   hoopoe       0.00      0.00      0.00         1\n",
            "             humming bird       0.00      0.00      0.00         2\n",
            "              hummingbird       0.06      1.00      0.11         2\n",
            "           humpback whale       0.00      0.00      0.00         2\n",
            "          humphead wrasse       0.00      0.00      0.00         1\n",
            "                     ibex       0.00      0.00      0.00         1\n",
            "                  icefish       0.00      0.00      0.00         1\n",
            "                   jaguar       0.00      0.00      0.00         1\n",
            "                jellyfish       0.00      0.00      0.00         1\n",
            "                 kangaroo       0.13      1.00      0.24         4\n",
            "           kangaroo mouse       0.00      0.00      0.00         1\n",
            "             kangaroo rat       0.00      0.00      0.00         0\n",
            "            kangaroo rat        0.00      0.00      0.00         1\n",
            "       keel-billed toucan       1.00      1.00      1.00         2\n",
            "    king bird-of-paradise       0.00      0.00      0.00         1\n",
            "                  kittens       0.00      0.00      0.00         1\n",
            "                     kiwi       1.00      0.50      0.67         2\n",
            "                    koala       0.00      0.00      0.00         1\n",
            "                  lamprey       0.00      0.00      0.00         1\n",
            "              lanternfish       0.00      0.00      0.00         0\n",
            "                     lark       0.00      0.00      0.00         1\n",
            "                  leopard       1.00      0.50      0.67         2\n",
            "                     lion       0.27      1.00      0.42         4\n",
            "                  lioness       0.00      0.00      0.00         1\n",
            "                 lionfish       0.00      0.00      0.00         1\n",
            "       long-tailed jaeger       0.00      0.00      0.00         2\n",
            "                 lungfish       0.00      0.00      0.00         1\n",
            "                 lyrebird       0.50      1.00      0.67         1\n",
            "                    macaw       0.00      0.00      0.00         1\n",
            "                 mackerel       0.00      0.00      0.00         1\n",
            "                   magpie       0.00      0.00      0.00         2\n",
            "               meadowlark       0.00      0.00      0.00         1\n",
            "                megalodon       0.00      0.00      0.00         1\n",
            "                   monkey       0.43      1.00      0.60         3\n",
            "                    moose       0.00      0.00      0.00         1\n",
            "                moray eel       0.00      0.00      0.00         1\n",
            "               mudskipper       0.00      0.00      0.00         3\n",
            "                  muntjac       0.00      0.00      0.00         1\n",
            "                  narwhal       0.00      0.00      0.00         1\n",
            "                     nest       0.00      0.00      0.00         1\n",
            "      new caledonian crow       0.50      1.00      0.67         1\n",
            "              nightingale       0.00      0.00      0.00         1\n",
            "                  octopus       0.00      0.00      0.00         1\n",
            "                    okapi       0.00      0.00      0.00         2\n",
            "                   oriole       0.00      0.00      0.00         1\n",
            "                   osprey       0.00      0.00      0.00         1\n",
            "                  ostrich       0.25      1.00      0.40         1\n",
            "                     pacu       0.00      0.00      0.00         0\n",
            "              pampas deer       0.00      0.00      0.00         1\n",
            "                    panda       0.00      0.00      0.00         2\n",
            "                   panda        0.00      0.00      0.00         1\n",
            "                 pangolin       0.00      0.00      0.00         1\n",
            "                   parrot       1.00      1.00      1.00         1\n",
            "                  peacock       0.00      0.00      0.00         1\n",
            "                  pelican       1.00      0.50      0.67         2\n",
            "                  penguin       0.00      0.00      0.00         3\n",
            "         peregrine falcon       0.00      0.00      0.00         2\n",
            "                   pigeon       1.00      0.25      0.40         4\n",
            "      pileated woodpecker       0.00      0.00      0.00         1\n",
            "                    pleco       0.00      0.00      0.00         1\n",
            "               polar bear       0.25      1.00      0.40         2\n",
            "              prairie dog       0.00      0.00      0.00         1\n",
            "               pufferfish       0.40      1.00      0.57         2\n",
            "                   puffin       0.00      0.00      0.00         1\n",
            "raggiana bird-of-paradise       0.00      0.00      0.00         1\n",
            "             rattle snake       0.00      0.00      0.00         1\n",
            "              rattlesnake       1.00      1.00      1.00         1\n",
            "                    raven       0.00      0.00      0.00         2\n",
            "                red panda       0.00      0.00      0.00         1\n",
            "   red-bellied woodpecker       0.00      0.00      0.00         1\n",
            "      resplendent quetzal       0.00      0.00      0.00         1\n",
            "                     rhea       0.67      1.00      0.80         2\n",
            "               roadrunner       0.00      0.00      0.00         1\n",
            "                    robin       0.00      0.00      0.00         1\n",
            "                rock dove       0.00      0.00      0.00         1\n",
            "                  sawfish       1.00      1.00      1.00         1\n",
            "                 sea lion       0.00      0.00      0.00         1\n",
            "           secretary bird       1.00      1.00      1.00         1\n",
            "            sergeant fish       0.00      0.00      0.00         1\n",
            "           sergeant major       0.00      0.00      0.00         1\n",
            "                    shark       0.23      0.60      0.33         5\n",
            "                    sheep       1.00      1.00      1.00         1\n",
            "                     skua       0.00      0.00      0.00         1\n",
            "                    snake       0.42      0.71      0.53         7\n",
            "                 starfish       1.00      1.00      1.00         2\n",
            "                    stork       0.00      0.00      0.00         1\n",
            "             streamertail       0.00      0.00      0.00         1\n",
            "      suckermouth catfish       0.00      0.00      0.00         1\n",
            "                  sunbird       0.00      0.00      0.00         2\n",
            "          superb lyrebird       0.00      0.00      0.00         1\n",
            "                    swift       0.00      0.00      0.00         1\n",
            "                swordfish       0.00      0.00      0.00         1\n",
            "                   tenrec       0.00      0.00      0.00         1\n",
            "       thick-billed murre       0.00      0.00      0.00         1\n",
            "                    tiger       1.00      0.50      0.67         4\n",
            "                tigerfish       0.00      0.00      0.00         1\n",
            "                 tinamous       0.00      0.00      0.00         1\n",
            "              torpedo ray       0.00      0.00      0.00         1\n",
            "                 tortoise       0.00      0.00      0.00         1\n",
            "                   toucan       0.00      0.00      0.00         1\n",
            "               tree snake       0.00      0.00      0.00         1\n",
            "                    trout       0.00      0.00      0.00         1\n",
            "                      tui       0.00      0.00      0.00         1\n",
            "                  vulture       0.00      0.00      0.00         1\n",
            "          walking catfish       0.00      0.00      0.00         0\n",
            "                  wallaby       0.00      0.00      0.00         1\n",
            "                watercock       0.00      0.00      0.00         1\n",
            "                    whale       1.00      0.50      0.67         2\n",
            "                   whales       0.00      0.00      0.00         1\n",
            "                     wolf       1.00      0.33      0.50         3\n",
            "         woodpecker finch       0.00      0.00      0.00         1\n",
            "                     wren       0.00      0.00      0.00         1\n",
            " yellow-throated longclaw       0.00      0.00      0.00         1\n",
            "                    zebra       0.20      0.67      0.31         3\n",
            "        zitting cisticola       0.00      0.00      0.00         1\n",
            "                   ʻiʻiwi       0.00      0.00      0.00         1\n",
            "\n",
            "                 accuracy                           0.33       276\n",
            "                macro avg       0.18      0.22      0.18       276\n",
            "             weighted avg       0.27      0.33      0.26       276\n",
            "\n",
            "\n",
            "Sample Riddle: I have four legs but never walk,I carry my home on my back.I'm slow and steady, that’s my way,Who am I?\n",
            "Predicted Answer: kangaroo\n"
          ]
        }
      ]
    },
    {
      "cell_type": "markdown",
      "source": [
        "\n",
        "\n",
        "---\n",
        "\n",
        "\n",
        "##  Trained the model again with optimized parameters to improve overall accuracy.\n",
        "---\n",
        "\n",
        "## 6.  **Evaluation**"
      ],
      "metadata": {
        "id": "QIguSNxKESI2"
      }
    },
    {
      "cell_type": "code",
      "source": [
        "import pandas as pd\n",
        "import nltk\n",
        "from sklearn.model_selection import train_test_split, GridSearchCV\n",
        "from sklearn.feature_extraction.text import TfidfVectorizer\n",
        "from sklearn.linear_model import LogisticRegression\n",
        "from sklearn.metrics import accuracy_score, classification_report\n",
        "from nltk.corpus import stopwords\n",
        "from nltk.stem import WordNetLemmatizer\n",
        "\n",
        "# Download NLTK data (run once)\n",
        "nltk.download('stopwords')\n",
        "nltk.download('punkt')\n",
        "nltk.download('wordnet')\n",
        "\n",
        "# Load dataset (replace with your 2000-riddle file)\n",
        "df = pd.read_csv('/content/drive/MyDrive/work/cleaned_animal_riddles.csv')\n",
        "\n",
        "# Preprocessing function\n",
        "lemmatizer = WordNetLemmatizer()\n",
        "stop_words = set(stopwords.words('english'))\n",
        "\n",
        "def preprocess_text(text):\n",
        "    tokens = nltk.word_tokenize(text.lower())\n",
        "    tokens = [lemmatizer.lemmatize(token) for token in tokens if token.isalnum() and token not in stop_words]\n",
        "    return ' '.join(tokens)\n",
        "\n",
        "# Apply preprocessing\n",
        "df['Riddle_processed'] = df['Riddle'].apply(preprocess_text)\n",
        "\n",
        "# Filter for frequent animal answers (at least 5 occurrences)\n",
        "frequent_answers = df['Answer'].value_counts()[df['Answer'].value_counts() >= 5].index\n",
        "df_filtered = df[df['Answer'].isin(frequent_answers)]\n",
        "\n",
        "# If you have 2000 riddles, adjust the threshold (e.g., >= 10) to get 20-30 animals\n",
        "print(\"Filtered Answer Distribution:\\n\", df_filtered['Answer'].value_counts())\n",
        "print(f\"Total unique answers after filtering: {len(df_filtered['Answer'].unique())}\")\n",
        "\n",
        "# Step 1: Split features (X) and target (y)\n",
        "X = df_filtered['Riddle_processed']\n",
        "y = df_filtered['Answer']\n",
        "\n",
        "# Step 2: Convert text to TF-IDF features\n",
        "vectorizer = TfidfVectorizer(\n",
        "    stop_words='english',\n",
        "    max_features=3000,       # More features for 2000 riddles\n",
        "    ngram_range=(1, 3),      # Unigrams, bigrams, trigrams\n",
        "    min_df=2                 # Ignore rare terms\n",
        ")\n",
        "X_tfidf = vectorizer.fit_transform(X)\n",
        "\n",
        "# Step 3: Split into training and testing sets\n",
        "X_train, X_test, y_train, y_test = train_test_split(X_tfidf, y, test_size=0.2, random_state=42, shuffle=True)\n",
        "\n",
        "# Step 4: Hyperparameter tuning with GridSearchCV\n",
        "param_grid = {\n",
        "    'C': [0.1, 1.0, 2.0, 5.0, 10.0],  # Regularization strength\n",
        "    'max_iter': [1000]                # Ensure convergence\n",
        "}\n",
        "classifier = LogisticRegression(multi_class='multinomial', solver='lbfgs')\n",
        "grid_search = GridSearchCV(classifier, param_grid, cv=5, scoring='accuracy', n_jobs=-1)\n",
        "grid_search.fit(X_train, y_train)\n",
        "\n",
        "# Best model\n",
        "best_classifier = grid_search.best_estimator_\n",
        "print(f\"Best Parameters: {grid_search.best_params_}\")\n",
        "\n",
        "# Step 5: Make predictions\n",
        "y_pred = best_classifier.predict(X_test)\n",
        "\n",
        "# Step 6: Evaluate the model\n",
        "accuracy = accuracy_score(y_test, y_pred)\n",
        "print(f\"\\nModel Accuracy: {accuracy * 100:.2f}%\")\n",
        "print(\"\\nClassification Report:\\n\", classification_report(y_test, y_pred, zero_division=0))\n",
        "\n",
        "# Example prediction\n",
        "sample_riddle = [\"I have four legs but never walk,I carry my home on my back.I'm slow and steady, that’s my way,Who am I?.\"]\n",
        "sample_processed = [preprocess_text(sample_riddle[0])]\n",
        "sample_tfidf = vectorizer.transform(sample_processed)\n",
        "prediction = best_classifier.predict(sample_tfidf)\n",
        "print(f\"\\nSample Riddle: {sample_riddle[0]}\")\n",
        "print(f\"Predicted Answer: {prediction[0]}\")\n"
      ],
      "metadata": {
        "colab": {
          "base_uri": "https://localhost:8080/"
        },
        "id": "qJzSX0pb8PgG",
        "outputId": "fbd3276b-1ca9-4d69-f7fc-193acb3c209d"
      },
      "execution_count": 13,
      "outputs": [
        {
          "output_type": "stream",
          "name": "stderr",
          "text": [
            "[nltk_data] Downloading package stopwords to /root/nltk_data...\n",
            "[nltk_data]   Package stopwords is already up-to-date!\n",
            "[nltk_data] Downloading package punkt to /root/nltk_data...\n",
            "[nltk_data]   Package punkt is already up-to-date!\n",
            "[nltk_data] Downloading package wordnet to /root/nltk_data...\n",
            "[nltk_data]   Package wordnet is already up-to-date!\n"
          ]
        },
        {
          "output_type": "stream",
          "name": "stdout",
          "text": [
            "Filtered Answer Distribution:\n",
            " Answer\n",
            "kangaroo               27\n",
            "giraffe                25\n",
            "elephant               23\n",
            "hummingbird            22\n",
            "shark                  21\n",
            "snake                  20\n",
            "zebra                  19\n",
            "monkey                 18\n",
            "dog                    17\n",
            "dolphin                16\n",
            "lion                   16\n",
            "starfish               16\n",
            "clownfish              14\n",
            "pufferfish             14\n",
            "cat                    13\n",
            "ostrich                13\n",
            "panda                  12\n",
            "deer                   12\n",
            "bat                    12\n",
            "kangaroo rat           12\n",
            "tiger                  11\n",
            "electric eel           11\n",
            "anglerfish             11\n",
            "polar bear             11\n",
            "lyrebird               10\n",
            "bear                   10\n",
            "spider monkey          10\n",
            "arctic fox              9\n",
            "whale                   9\n",
            "bowerbird               8\n",
            "mudskipper              7\n",
            "new caledonian crow     7\n",
            "horse                   7\n",
            "cheetah                 7\n",
            "eagle                   7\n",
            "pigeon                  7\n",
            "owl                     7\n",
            "rabbit                  7\n",
            "african grey parrot     7\n",
            "fennec fox              7\n",
            "barreleye fish          7\n",
            "emu                     6\n",
            "penguin                 6\n",
            "parrot                  6\n",
            "fox                     6\n",
            "wolf                    6\n",
            "cassowary               6\n",
            "superb lyrebird         6\n",
            "stone fish              6\n",
            "rhea                    6\n",
            "pelican                 6\n",
            "albatross               6\n",
            "bird of paradise        5\n",
            "kiwi                    5\n",
            "humpback whale          5\n",
            "secretary bird          5\n",
            "peregrine falcon        5\n",
            "peacock                 5\n",
            "barn owl                5\n",
            "common swift            5\n",
            "Name: count, dtype: int64\n",
            "Total unique answers after filtering: 60\n"
          ]
        },
        {
          "output_type": "stream",
          "name": "stderr",
          "text": [
            "/usr/local/lib/python3.11/dist-packages/sklearn/model_selection/_split.py:805: UserWarning: The least populated class in y has only 3 members, which is less than n_splits=5.\n",
            "  warnings.warn(\n",
            "/usr/local/lib/python3.11/dist-packages/sklearn/linear_model/_logistic.py:1247: FutureWarning: 'multi_class' was deprecated in version 1.5 and will be removed in 1.7. From then on, it will always use 'multinomial'. Leave it to its default value to avoid this warning.\n",
            "  warnings.warn(\n"
          ]
        },
        {
          "output_type": "stream",
          "name": "stdout",
          "text": [
            "Best Parameters: {'C': 10.0, 'max_iter': 1000}\n",
            "\n",
            "Model Accuracy: 75.20%\n",
            "\n",
            "Classification Report:\n",
            "                      precision    recall  f1-score   support\n",
            "\n",
            "african grey parrot       1.00      1.00      1.00         3\n",
            "          albatross       1.00      1.00      1.00         1\n",
            "         anglerfish       1.00      1.00      1.00         1\n",
            "         arctic fox       1.00      0.33      0.50         3\n",
            "                bat       1.00      1.00      1.00         3\n",
            "               bear       1.00      0.50      0.67         2\n",
            "   bird of paradise       0.00      0.00      0.00         2\n",
            "          bowerbird       0.50      1.00      0.67         1\n",
            "          cassowary       0.00      0.00      0.00         0\n",
            "                cat       0.80      0.80      0.80         5\n",
            "            cheetah       0.00      0.00      0.00         0\n",
            "          clownfish       1.00      1.00      1.00         4\n",
            "       common swift       1.00      1.00      1.00         1\n",
            "               deer       1.00      1.00      1.00         4\n",
            "                dog       0.33      1.00      0.50         1\n",
            "            dolphin       1.00      0.50      0.67         2\n",
            "       electric eel       1.00      0.75      0.86         4\n",
            "           elephant       0.75      1.00      0.86         6\n",
            "                emu       0.00      0.00      0.00         2\n",
            "                fox       0.50      0.50      0.50         2\n",
            "            giraffe       1.00      1.00      1.00         6\n",
            "              horse       0.00      0.00      0.00         0\n",
            "        hummingbird       1.00      1.00      1.00         2\n",
            "           kangaroo       0.75      1.00      0.86         6\n",
            "       kangaroo rat       0.50      0.50      0.50         2\n",
            "               kiwi       1.00      1.00      1.00         1\n",
            "               lion       0.50      1.00      0.67         3\n",
            "           lyrebird       0.75      1.00      0.86         3\n",
            "             monkey       1.00      0.60      0.75         5\n",
            "         mudskipper       0.00      0.00      0.00         2\n",
            "new caledonian crow       1.00      1.00      1.00         1\n",
            "            ostrich       0.25      1.00      0.40         1\n",
            "                owl       1.00      1.00      1.00         1\n",
            "              panda       1.00      1.00      1.00         3\n",
            "            peacock       0.67      1.00      0.80         2\n",
            "            pelican       1.00      1.00      1.00         2\n",
            "            penguin       0.00      0.00      0.00         2\n",
            "   peregrine falcon       0.00      0.00      0.00         1\n",
            "             pigeon       0.00      0.00      0.00         1\n",
            "         polar bear       0.60      1.00      0.75         3\n",
            "         pufferfish       1.00      0.50      0.67         2\n",
            "             rabbit       0.00      0.00      0.00         1\n",
            "               rhea       1.00      1.00      1.00         3\n",
            "     secretary bird       0.00      0.00      0.00         1\n",
            "              shark       0.67      1.00      0.80         4\n",
            "              snake       1.00      1.00      1.00         4\n",
            "      spider monkey       0.00      0.00      0.00         1\n",
            "           starfish       1.00      1.00      1.00         3\n",
            "         stone fish       0.00      0.00      0.00         0\n",
            "    superb lyrebird       0.00      0.00      0.00         1\n",
            "              tiger       1.00      0.33      0.50         3\n",
            "              whale       0.00      0.00      0.00         1\n",
            "               wolf       1.00      0.50      0.67         2\n",
            "              zebra       1.00      0.60      0.75         5\n",
            "\n",
            "           accuracy                           0.75       125\n",
            "          macro avg       0.62      0.62      0.59       125\n",
            "       weighted avg       0.77      0.75      0.73       125\n",
            "\n",
            "\n",
            "Sample Riddle: I have four legs but never walk,I carry my home on my back.I'm slow and steady, that’s my way,Who am I?.\n",
            "Predicted Answer: kangaroo\n"
          ]
        }
      ]
    },
    {
      "cell_type": "code",
      "source": [
        "\n",
        "# Example prediction\n",
        "sample_riddle = [\"A creature of legend, yet I am real,A single horn is my great seal.I roam the icy, frigid sea,A mystery to those who look for me.What am I?\"]\n",
        "sample_processed = [preprocess_text(sample_riddle[0])]\n",
        "sample_tfidf = vectorizer.transform(sample_processed)\n",
        "prediction = best_classifier.predict(sample_tfidf)\n",
        "print(f\"\\nSample Riddle: {sample_riddle[0]}\")\n",
        "print(f\"Predicted Answer: {prediction[0]}\")"
      ],
      "metadata": {
        "colab": {
          "base_uri": "https://localhost:8080/"
        },
        "id": "1ltxzj1j_16n",
        "outputId": "66b2ccad-15b8-4d02-e947-116807aa498b"
      },
      "execution_count": 14,
      "outputs": [
        {
          "output_type": "stream",
          "name": "stdout",
          "text": [
            "\n",
            "Sample Riddle: A creature of legend, yet I am real,A single horn is my great seal.I roam the icy, frigid sea,A mystery to those who look for me.What am I?\n",
            "Predicted Answer: starfish\n"
          ]
        }
      ]
    },
    {
      "cell_type": "markdown",
      "source": [
        "## 7. **Conclusion**\n",
        "After adding the sample dataset and applying basic NLP techniques, the model was trained and achieved approximately **75% accuracy**. The results are promising, and this project will be scaled using a larger dataset to improve performance further.\n"
      ],
      "metadata": {
        "id": "IJLhd1iuIn_y"
      }
    },
    {
      "cell_type": "markdown",
      "source": [
        "\n",
        "\n",
        "---\n",
        "\n",
        "###**Objective**\n",
        "\n",
        "To build a machine learning model that classifies or analyzes animal riddles.\n",
        "\n",
        "---\n",
        "\n",
        "###**Challenges**\n",
        "\n",
        "* Handling textual ambiguity in riddles\n",
        "* Preprocessing unstructured text data\n",
        "* Improving model accuracy with limited labeled data\n",
        "\n",
        "---\n",
        "\n",
        "###**Outcome**\n",
        "\n",
        "* Successfully cleaned and processed riddle text\n",
        "* Trained multiple ML models with improved accuracy\n",
        "* Achieved better performance after retraining and optimization\n",
        "\n",
        "---\n",
        "\n"
      ],
      "metadata": {
        "id": "Q_2WvP1dE4V9"
      }
    }
  ]
}